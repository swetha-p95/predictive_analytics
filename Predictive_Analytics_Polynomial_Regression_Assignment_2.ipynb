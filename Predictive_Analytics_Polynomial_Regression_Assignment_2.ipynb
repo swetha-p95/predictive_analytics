{
  "cells": [
    {
      "cell_type": "markdown",
      "metadata": {
        "id": "AtzSquaQnaBD"
      },
      "source": [
        "# Problem Description:\n",
        "A Human Resource company needs to determine the salary for a new job position being created. They only have access to a salary dataset for the company, which includes salary information for the top 10 positions along with their corresponding levels. The task is to assist HR in deciding the appropriate salary if the new position falls between levels 7 and 8.\n",
        "\n",
        "Data Set: **Position_Salaries.csv**\n",
        "Rules: You are restricted from utilizing the sklearn library.You are limited to using only the libraries provided.\n",
        "\n",
        "Reference : https://www.javatpoint.com/machine-learning-polynomial-regression\n",
        "\n",
        " https://www.kaggle.com/code/omkarsantoshraut/polynomial-regression"
      ]
    },
    {
      "cell_type": "code",
      "execution_count": 2,
      "metadata": {
        "id": "1tJn4PzWnZtz"
      },
      "outputs": [],
      "source": [
        "# Allowded to use only these libraries\n",
        "\n",
        "import numpy as np\n",
        "import matplotlib.pyplot as plt\n",
        "import pandas as pd\n",
        "import seaborn as sns"
      ]
    },
    {
      "cell_type": "markdown",
      "metadata": {
        "id": "pDonG1iOtiCP"
      },
      "source": [
        "## Exploratory data analysis"
      ]
    },
    {
      "cell_type": "code",
      "execution_count": 3,
      "metadata": {
        "id": "BUFCZbfRlfzi"
      },
      "outputs": [
        {
          "data": {
            "text/html": [
              "<div>\n",
              "<style scoped>\n",
              "    .dataframe tbody tr th:only-of-type {\n",
              "        vertical-align: middle;\n",
              "    }\n",
              "\n",
              "    .dataframe tbody tr th {\n",
              "        vertical-align: top;\n",
              "    }\n",
              "\n",
              "    .dataframe thead th {\n",
              "        text-align: right;\n",
              "    }\n",
              "</style>\n",
              "<table border=\"1\" class=\"dataframe\">\n",
              "  <thead>\n",
              "    <tr style=\"text-align: right;\">\n",
              "      <th></th>\n",
              "      <th>Position</th>\n",
              "      <th>Level</th>\n",
              "      <th>Salary</th>\n",
              "    </tr>\n",
              "  </thead>\n",
              "  <tbody>\n",
              "    <tr>\n",
              "      <th>0</th>\n",
              "      <td>Business Analyst</td>\n",
              "      <td>1</td>\n",
              "      <td>45000</td>\n",
              "    </tr>\n",
              "    <tr>\n",
              "      <th>1</th>\n",
              "      <td>Junior Consultant</td>\n",
              "      <td>2</td>\n",
              "      <td>50000</td>\n",
              "    </tr>\n",
              "    <tr>\n",
              "      <th>2</th>\n",
              "      <td>Senior Consultant</td>\n",
              "      <td>3</td>\n",
              "      <td>60000</td>\n",
              "    </tr>\n",
              "    <tr>\n",
              "      <th>3</th>\n",
              "      <td>Manager</td>\n",
              "      <td>4</td>\n",
              "      <td>80000</td>\n",
              "    </tr>\n",
              "    <tr>\n",
              "      <th>4</th>\n",
              "      <td>Country Manager</td>\n",
              "      <td>5</td>\n",
              "      <td>110000</td>\n",
              "    </tr>\n",
              "    <tr>\n",
              "      <th>5</th>\n",
              "      <td>Region Manager</td>\n",
              "      <td>6</td>\n",
              "      <td>150000</td>\n",
              "    </tr>\n",
              "    <tr>\n",
              "      <th>6</th>\n",
              "      <td>Partner</td>\n",
              "      <td>7</td>\n",
              "      <td>200000</td>\n",
              "    </tr>\n",
              "    <tr>\n",
              "      <th>7</th>\n",
              "      <td>Senior Partner</td>\n",
              "      <td>8</td>\n",
              "      <td>300000</td>\n",
              "    </tr>\n",
              "    <tr>\n",
              "      <th>8</th>\n",
              "      <td>C-level</td>\n",
              "      <td>9</td>\n",
              "      <td>500000</td>\n",
              "    </tr>\n",
              "    <tr>\n",
              "      <th>9</th>\n",
              "      <td>CEO</td>\n",
              "      <td>10</td>\n",
              "      <td>1000000</td>\n",
              "    </tr>\n",
              "  </tbody>\n",
              "</table>\n",
              "</div>"
            ],
            "text/plain": [
              "            Position  Level   Salary\n",
              "0   Business Analyst      1    45000\n",
              "1  Junior Consultant      2    50000\n",
              "2  Senior Consultant      3    60000\n",
              "3            Manager      4    80000\n",
              "4    Country Manager      5   110000\n",
              "5     Region Manager      6   150000\n",
              "6            Partner      7   200000\n",
              "7     Senior Partner      8   300000\n",
              "8            C-level      9   500000\n",
              "9                CEO     10  1000000"
            ]
          },
          "execution_count": 3,
          "metadata": {},
          "output_type": "execute_result"
        }
      ],
      "source": [
        "# your code(s)\n",
        "data = pd.read_csv(\"Position_Salaries.csv\")\n",
        "data.head(10)"
      ]
    },
    {
      "cell_type": "code",
      "execution_count": 4,
      "metadata": {},
      "outputs": [
        {
          "data": {
            "text/html": [
              "<div>\n",
              "<style scoped>\n",
              "    .dataframe tbody tr th:only-of-type {\n",
              "        vertical-align: middle;\n",
              "    }\n",
              "\n",
              "    .dataframe tbody tr th {\n",
              "        vertical-align: top;\n",
              "    }\n",
              "\n",
              "    .dataframe thead th {\n",
              "        text-align: right;\n",
              "    }\n",
              "</style>\n",
              "<table border=\"1\" class=\"dataframe\">\n",
              "  <thead>\n",
              "    <tr style=\"text-align: right;\">\n",
              "      <th></th>\n",
              "      <th>Level</th>\n",
              "      <th>Salary</th>\n",
              "    </tr>\n",
              "  </thead>\n",
              "  <tbody>\n",
              "    <tr>\n",
              "      <th>count</th>\n",
              "      <td>10.00000</td>\n",
              "      <td>10.000000</td>\n",
              "    </tr>\n",
              "    <tr>\n",
              "      <th>mean</th>\n",
              "      <td>5.50000</td>\n",
              "      <td>249500.000000</td>\n",
              "    </tr>\n",
              "    <tr>\n",
              "      <th>std</th>\n",
              "      <td>3.02765</td>\n",
              "      <td>299373.883668</td>\n",
              "    </tr>\n",
              "    <tr>\n",
              "      <th>min</th>\n",
              "      <td>1.00000</td>\n",
              "      <td>45000.000000</td>\n",
              "    </tr>\n",
              "    <tr>\n",
              "      <th>25%</th>\n",
              "      <td>3.25000</td>\n",
              "      <td>65000.000000</td>\n",
              "    </tr>\n",
              "    <tr>\n",
              "      <th>50%</th>\n",
              "      <td>5.50000</td>\n",
              "      <td>130000.000000</td>\n",
              "    </tr>\n",
              "    <tr>\n",
              "      <th>75%</th>\n",
              "      <td>7.75000</td>\n",
              "      <td>275000.000000</td>\n",
              "    </tr>\n",
              "    <tr>\n",
              "      <th>max</th>\n",
              "      <td>10.00000</td>\n",
              "      <td>1000000.000000</td>\n",
              "    </tr>\n",
              "  </tbody>\n",
              "</table>\n",
              "</div>"
            ],
            "text/plain": [
              "          Level          Salary\n",
              "count  10.00000       10.000000\n",
              "mean    5.50000   249500.000000\n",
              "std     3.02765   299373.883668\n",
              "min     1.00000    45000.000000\n",
              "25%     3.25000    65000.000000\n",
              "50%     5.50000   130000.000000\n",
              "75%     7.75000   275000.000000\n",
              "max    10.00000  1000000.000000"
            ]
          },
          "execution_count": 4,
          "metadata": {},
          "output_type": "execute_result"
        }
      ],
      "source": [
        "data.describe()"
      ]
    },
    {
      "cell_type": "code",
      "execution_count": 5,
      "metadata": {},
      "outputs": [
        {
          "data": {
            "text/plain": [
              "<matplotlib.collections.PathCollection at 0x27113897d70>"
            ]
          },
          "execution_count": 5,
          "metadata": {},
          "output_type": "execute_result"
        },
        {
          "data": {
            "image/png": "[encoded data removed]",
            "text/plain": [
              "<Figure size 640x480 with 1 Axes>"
            ]
          },
          "metadata": {},
          "output_type": "display_data"
        }
      ],
      "source": [
        "plt.scatter(data.Level,data.Salary)"
      ]
    },
    {
      "cell_type": "markdown",
      "metadata": {
        "id": "mvaBWQfAtpp-"
      },
      "source": [
        "### Based on the exploratory data analysis, answer the following\n",
        "\n",
        "\n",
        "* Can you use a simple linear regression model to fit this data (Yes/No)?\n",
        "> * No\n",
        "* If you use a simple linear model to fit this data, will it fit well (Yes/No)?\n",
        "> * No\n",
        "* Explain why you said yes or no to the above questions.\n",
        "> * The scatter plot shows that the data points do not follow a linear pattern. Attempting to fit a simple linear model will lead to underfitting.\n",
        "\n"
      ]
    },
    {
      "cell_type": "markdown",
      "metadata": {
        "id": "exOvj2CxFelv"
      },
      "source": [
        "## Polynomial Regression\n",
        "\n",
        "**Construct a second order Model:** \n",
        "$\\hat y = w_1 x_1^2 + w_2x_1 + b$\n",
        "\n",
        "\n",
        "**Construct a Cost function:** \n",
        "$MSE(w_1,w_2,b) = \\frac{1}{N} \\sum_{i=1}^N (y_i-(w_1x_i^2 + w_2x +b))^2$\n"
      ]
    },
    {
      "cell_type": "markdown",
      "metadata": {
        "id": "2aQT57RJySAu"
      },
      "source": [
        "### By analysing the cost function, answer the following\n",
        "\n",
        "\n",
        "* Can you use mean squared error as the cost function (Yes/No)?\n",
        "> * Yes\n",
        "* Explain why you said yes or no to the above questions.\n",
        "> * Mean squared error indicates how close the predicted value is to the actual value of y. "
      ]
    },
    {
      "cell_type": "markdown",
      "metadata": {
        "id": "sTQ46QsyyuYG"
      },
      "source": [
        "**Derivatives of cost function:**\n",
        "\n",
        "$\\frac{\\partial MSE}{\\partial w_1} = \\frac{2}{N} \\sum_{i=1}^N \\left( w_1x_i^2 + w_2x_i + b - y_i \\right)*x_i^2 $\n",
        "\n",
        "$\\frac{\\partial MSE}{\\partial w_2} = \\frac{2}{N} \\sum_{i=1}^N \\left( w_1x_i^2 + w_2x_i + b - y_i \\right)*x_i $\n",
        "\n",
        "$\\frac{\\partial MSE}{\\partial b} = \\frac{2}{N} \\sum_{i=1}^N \\left( w_1x_i^2 + w_2x_i + b - y_i \\right)$\n",
        "\n",
        "\n",
        "\n",
        "\n",
        "**Gradient Descent Algorithm:**\n",
        "```\n",
        "Repeat until converges:\n",
        "```\n",
        "$w_1 = w_1 -\\alpha \\frac{\\partial MSE}{\\partial w_1} $\n",
        "\n",
        "$w_2 = w_2 -\\alpha \\frac{\\partial MSE}{\\partial w_2} $\n",
        "\n",
        "$b = b -\\alpha \\frac{\\partial MSE}{\\partial b} $"
      ]
    },
    {
      "cell_type": "markdown",
      "metadata": {
        "id": "7bzYFCh5zIL4"
      },
      "source": [
        "## Implementation of the model"
      ]
    },
    {
      "cell_type": "code",
      "execution_count": null,
      "metadata": {
        "id": "EPZv6kMJzfk4"
      },
      "outputs": [],
      "source": [
        "# Write a code/ function to do the following\n",
        "\n",
        "# function for your model\n",
        "\n",
        "# a function for your cost function\n",
        "\n",
        "# function to calculate the derivatives\n",
        "\n",
        "# code to estimate the parametes using gradient descent\n",
        "# Aslo estimate the cost function in each iteration\n",
        "\n",
        "# Plot the model with the data given\n",
        "# plot the iteratio VS cost\n",
        "\n",
        "# estimate the solution to the given problem\n",
        "\n",
        "# mark the point or result in the graph (plot)\n",
        "\n",
        "# Estimate the model performance"
      ]
    },
    {
      "cell_type": "code",
      "execution_count": 9,
      "metadata": {},
      "outputs": [
        {
          "name": "stdout",
          "output_type": "stream",
          "text": [
            "The value of w after  250000  iteration 19418.69623651129 -132708.07788015323 231748.3001864255\n"
          ]
        },
        {
          "data": {
            "image/png": "[encoded data removed]",
            "text/plain": [
              "<Figure size 640x480 with 1 Axes>"
            ]
          },
          "metadata": {},
          "output_type": "display_data"
        }
      ],
      "source": [
        "X = data['Level'].values\n",
        "Y = data['Salary'].values\n",
        "\n",
        "# Cost function\n",
        "def cost_function(x,y,w1,w2,b):\n",
        "  N = x.size\n",
        "  return 1/N*(np.sum(((w1*x*x + w2*x+b)-y)**2))\n",
        "\n",
        "# Derivatives of the cost function\n",
        "def compute_gradient_wb(x,y,w1,w2,b):\n",
        "  N = x.size\n",
        "  res = (w1*x*x + w2*x+b-y)\n",
        "  dMSE_dw1 = (2/N)*(np.sum(res*x*x))\n",
        "  dMSE_dw2 = (2/N)*(np.sum(res*x))\n",
        "  dMSE_db = (2/N)*np.sum(res)\n",
        "  return dMSE_dw1, dMSE_dw2, dMSE_db\n",
        "\n",
        "# Main code\n",
        "\n",
        "alpha = 0.0002   # Learning rate\n",
        "w1, w2, b  = 1,2,24000   # initial guess of the w and b\n",
        "M = 250000           # Number of iterations\n",
        "cost = []\n",
        "\n",
        "# implementation of the gradient descent\n",
        "for i in range(M):\n",
        "  dMSE_dw1, dMSE_dw2, dMSE_db = compute_gradient_wb(X,Y,w1,w2,b)\n",
        "  w1 = w1 - alpha*dMSE_dw1\n",
        "  w2 = w2 - alpha*dMSE_dw2\n",
        "  b = b - alpha*dMSE_db\n",
        "  cost.append(cost_function(X,Y,w1,w2,b))\n",
        "\n",
        "\n",
        "print('The value of w after ',M,' iteration', w1, w2, b)\n",
        "\n",
        "y_predict = (w1*X*X + w2*X + b)\n",
        "\n",
        "# Plot the model with the data given\n",
        "\n",
        "plt.scatter(X, Y, color = 'red')\n",
        "plt.plot(X,y_predict)\n",
        "plt.xlabel('Level')\n",
        "plt.ylabel('Salary')\n",
        "plt.grid()\n",
        "\n"
      ]
    },
    {
      "cell_type": "code",
      "execution_count": 8,
      "metadata": {},
      "outputs": [
        {
          "data": {
            "text/plain": [
              "[<matplotlib.lines.Line2D at 0x2711391f860>]"
            ]
          },
          "execution_count": 8,
          "metadata": {},
          "output_type": "execute_result"
        },
        {
          "data": {
            "image/png": "[encoded data removed]",
            "text/plain": [
              "<Figure size 640x480 with 1 Axes>"
            ]
          },
          "metadata": {},
          "output_type": "display_data"
        }
      ],
      "source": [
        "# plot the iteration VS cost\n",
        "\n",
        "plt.plot(cost)"
      ]
    },
    {
      "cell_type": "code",
      "execution_count": 183,
      "metadata": {},
      "outputs": [
        {
          "name": "stdout",
          "output_type": "stream",
          "text": [
            "Predicted salary for new position is 328740\n"
          ]
        }
      ],
      "source": [
        "x = 7.5\n",
        "predicted_salary = w1*x*x + w2*x + b\n",
        "print(\"Predicted salary for new position is %d\" %(predicted_salary))"
      ]
    },
    {
      "cell_type": "code",
      "execution_count": 184,
      "metadata": {},
      "outputs": [
        {
          "name": "stdout",
          "output_type": "stream",
          "text": [
            "0.9162080598532102\n"
          ]
        }
      ],
      "source": [
        "ssr = np.sum((Y - y_predict)**2)\n",
        "sst = np.sum((Y-np.mean(Y))**2)\n",
        "\n",
        "R2 = 1 - ssr/sst\n",
        "print(R2)"
      ]
    },
    {
      "cell_type": "markdown",
      "metadata": {
        "id": "qhvdbzMx0P-B"
      },
      "source": [
        "### Answer the following\n",
        "\n",
        "* What is learning rate?\n",
        "> * Learning rate is a hyperparameter which that determines the step size by which a parameter is adjusted during each iteration of the gradient descent algorithm.\n",
        "* What will happen if the learning rate is too large?\n",
        "> * If the learning rate is too large, it can lead to overshoot the minimum. \n",
        "* What will happen if the learning rate is too small?\n",
        "> * Small learning rate leads to slow convergence requiring many iterations.\n",
        "* If you what to change the second order (quadratic) model to third order model what all things will change in the above code?\n",
        "> * Model: $\\hat y = w_1 x^3 + w_2x^2 + w_3x + b\n",
        "\n",
        "> * Cost function : $MSE(w_1,w_2,b) = \\frac{1}{N} \\sum_{i=1}^N (y_i-(w_1 x_i^3 + w_2x_i^2 + w_3x_i + b))^2$\n",
        "\n",
        "> * **Derivatives of cost function:**\n",
        "\n",
        "$\\frac{\\partial MSE}{\\partial w_1} = \\frac{2}{N} \\sum_{i=1}^N \\left( w_1 x_i^3 + w_2x_i^2 + w_3x_i + b - y_i \\right)*x_i^3 $\n",
        "\n",
        "$\\frac{\\partial MSE}{\\partial w_2} = \\frac{2}{N} \\sum_{i=1}^N \\left( w_1 x_i^3 + w_2x_i^2 + w_3x_i + b - y_i \\right)*x_i^2 $\n",
        "\n",
        "$\\frac{\\partial MSE}{\\partial w_3} = \\frac{2}{N} \\sum_{i=1}^N \\left( w_1 x_i^3 + w_2x_i^2 + w_3x_i + b - y_i \\right)*x_i $\n",
        "\n",
        "$\\frac{\\partial MSE}{\\partial b} = \\frac{2}{N} \\sum_{i=1}^N \\left(w_1 x_i^3 + w_2x_i^2 + w_3x_i + b - y_i \\right)$\n",
        "\n",
        "\n",
        "\n",
        "\n",
        "> * **Gradient Descent Algorithm:**\n",
        "```\n",
        "Repeat until converges:\n",
        "```\n",
        "$w_1 = w_1 -\\alpha \\frac{\\partial MSE}{\\partial w_1} $\n",
        "\n",
        "$w_2 = w_2 -\\alpha \\frac{\\partial MSE}{\\partial w_2} $\n",
        "\n",
        "$w_3 = w_3 -\\alpha \\frac{\\partial MSE}{\\partial w_3} $\n",
        "\n",
        "$b = b -\\alpha \\frac{\\partial MSE}{\\partial b} $\n"
      ]
    }
  ],
  "metadata": {
    "colab": {
      "provenance": []
    },
    "kernelspec": {
      "display_name": "Python 3",
      "name": "python3"
    },
    "language_info": {
      "codemirror_mode": {
        "name": "ipython",
        "version": 3
      },
      "file_extension": ".py",
      "mimetype": "text/x-python",
      "name": "python",
      "nbconvert_exporter": "python",
      "pygments_lexer": "ipython3",
      "version": "3.12.0"
    }
  },
  "nbformat": 4,
  "nbformat_minor": 0
}
